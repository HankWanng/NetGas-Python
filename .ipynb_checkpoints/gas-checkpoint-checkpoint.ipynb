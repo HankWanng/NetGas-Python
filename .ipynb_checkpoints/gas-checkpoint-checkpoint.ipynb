{
 "cells": [
  {
   "cell_type": "code",
   "execution_count": 9,
   "metadata": {},
   "outputs": [],
   "source": [
    "import requests\n",
    "import json\n",
    "import datetime\n",
    "import time\n",
    "import os\n",
    "from shutil import copyfile\n"
   ]
  },
  {
   "cell_type": "code",
   "execution_count": 2,
   "metadata": {},
   "outputs": [],
   "source": [
    "def login():\n",
    "    \"\"\"获取token\"\"\"\n",
    "    data = {'username':'cchg','password':'cchg123!@#'}\n",
    " \n",
    " \n",
    "    url = \"http://ganghua.dsmcase.com:88/lrd/login\"\n",
    " \n",
    "    r = requests.post(url=url, json=data, headers=headers)\n",
    "    #将获取到的token返回\n",
    "\n",
    "    return (r.json()[\"data\"][\"token\"])"
   ]
  },
  {
   "cell_type": "code",
   "execution_count": 3,
   "metadata": {},
   "outputs": [],
   "source": [
    "def getTodayDate():\n",
    "    today_date = datetime.date.today()#- datetime.timedelta(days=1) #更改数据时间\n",
    "    today_str = today_date.strftime(\"%Y-%m-%d\")\n",
    "    yestoday_date = today_date - datetime.timedelta(days=1)\n",
    "    yestoday_str = yestoday_date.strftime(\"%Y-%m-%d\")\n",
    "#     print(today_str,yestoday_str)\n",
    "    today_stamp = time.mktime(time.strptime(today_str + ' 00:00:00', '%Y-%m-%d %H:%M:%S'))\n",
    "    today_stamp = str(round(today_stamp*1000))\n",
    "    yestoday_stamp = time.mktime(time.strptime(yestoday_str + ' 00:00:00', '%Y-%m-%d %H:%M:%S'))\n",
    "    yestoday_stamp = str(round(yestoday_stamp*1000))\n",
    "    return today_stamp, yestoday_stamp"
   ]
  },
  {
   "cell_type": "code",
   "execution_count": 4,
   "metadata": {},
   "outputs": [],
   "source": [
    "def Parmasdata(deviceCodes,keys):\n",
    "    endtime,starttime = getTodayDate()\n",
    "    data = {'page':'1','limit':'289','startTime':starttime,\n",
    "               'endTime':endtime,'deviceCodes':deviceCodes,'keys':keys}\n",
    "    getTbHistoryValue = requests.get(\n",
    "        url=\"http://ganghua.dsmcase.com:88/lrd/dashboard/tbhistory/getTbHistoryValue\",\n",
    "        params=data,\n",
    "        headers=headers\n",
    "    )\n",
    "#     print(getTbHistoryValue.json())\n",
    "    return getTbHistoryValue.json()['data']"
   ]
  },
  {
   "cell_type": "code",
   "execution_count": 5,
   "metadata": {},
   "outputs": [],
   "source": [
    "def confirm_login():\n",
    "    \"\"\"调用获取登录信息接口，将登录成功后，返回的token放在该请求的header中\"\"\"\n",
    "    #将login（）方法中返回的token放入header中\n",
    "\n",
    "    headers[\"Token\"] = login()\n",
    "#    获取设备名称(2个C_11000427_2,C_11000427_3)\n",
    "    getDevices = requests.get(\n",
    "        url=\"http://ganghua.dsmcase.com:88//lrd/dashboard/tbhistory/getDevices\",\n",
    "        headers=headers\n",
    "    )\n",
    "    deviceCodes = list(getDevices.json()['data'])\n",
    "    \n",
    "    # 获取设备属性（C3 c4 c5 c6）\n",
    "    getKeys = requests.get(\n",
    "        url=\"http://ganghua.dsmcase.com:88/lrd/dashboard/tbhistory/getKeys\",\n",
    "        headers=headers\n",
    "    )\n",
    "    keys = getKeys.json()['data']\n",
    "#     print(deviceCodes)\n",
    "    # 获取历史资料keys[0]['name']\n",
    "    # MC4272dataPC3 = Parmasdata(deviceCodes[0],'C3')   #4272压力\n",
    "    # MC4272dataTC4 = Parmasdata(deviceCodes[0],'C4')   #4272温度\n",
    "    # MC4272dataFC5 = Parmasdata(deviceCodes[0],'C5')   #4272流量\n",
    "#     MC4272dataFC6SUM = Parmasdata(deviceCodes[0],'C6')   #4272累计流量\n",
    "#     MC4273dataFC6SUM = Parmasdata(deviceCodes[1],'C6')   #4273累计流量\n",
    "    listname = []\n",
    "    MC0573dataFC6SUM = Parmasdata('C_V0000057_3','C6')   #0573累计流量\n",
    "    MC0572dataFC6SUM = Parmasdata('C_V0000057_2','C6')   #0572累计流量\n",
    "    MC0571dataFC6SUM = Parmasdata('C_V0000057_1','C6')   #0571累计流量\n",
    "    MC4273dataFC6SUM = Parmasdata('C_11000427_3','C6')   #4273累计流量\n",
    "    MC4272dataFC6SUM = Parmasdata('C_11000427_2','C6')   #4272累计流量\n",
    "    MC4271dataFC6SUM = Parmasdata('C_11000427_1','C6')   #4271累计流量\n",
    "#     C3Pdata = {'page':'10','limit':'30','startTime':'1618296802000','endTime':'1618383202000','deviceCodes':deviceCodes[0],'keys':'C3'}\n",
    "    listname.append(MC0573dataFC6SUM)\n",
    "    listname.append(MC0572dataFC6SUM)\n",
    "    listname.append(MC0571dataFC6SUM)\n",
    "    listname.append(MC4273dataFC6SUM)\n",
    "    listname.append(MC4272dataFC6SUM)\n",
    "    listname.append(MC4271dataFC6SUM)\n",
    "#     for i in listname:\n",
    "#         if i:\n",
    "#             print(len(i))\n",
    "#         else:\n",
    "#             print(f'{i}为空')\n",
    "#     getTbHistoryValue = requests.get(\n",
    "#         url=\"http://ganghua.dsmcase.com:88/lrd/dashboard/tbhistory/getTbHistoryValue\",\n",
    "#         params=C3Pdata,\n",
    "#         headers=headers\n",
    "#     )\n",
    "#     print(r.headersgetDevices.json(),getKeys.json(),)\n",
    "#     print(getTbHistoryValue.json())\n",
    "    return MC0573dataFC6SUM,MC0572dataFC6SUM,MC0571dataFC6SUM,MC4273dataFC6SUM,MC4272dataFC6SUM,MC4271dataFC6SUM"
   ]
  },
  {
   "cell_type": "code",
   "execution_count": 6,
   "metadata": {},
   "outputs": [],
   "source": [
    "def Datatotxt(x,y,name):\n",
    "    print(len(x[\"list\"]),len(y[\"list\"]))\n",
    "    if(os.path.exists(f\"{name}qtfs.txt\")):\n",
    "        os.remove(f\"{name}qtfs.txt\")\n",
    "    for i in range(0,len(x[\"list\"]),3):\n",
    "        \n",
    "        valuex = x[\"list\"][i]['value']\n",
    "        valuey = y[\"list\"][i]['value']\n",
    "        time = y[\"list\"][i]['collectionTime']\n",
    "        value = valuex + valuey\n",
    "        linex = 'TAGNAME=Root.CN.CCJS_EL.NatGas.{name}7'+ '\\n'\n",
    "        liney = 'ITEM=VALUE,VALUE={},TIMESTAMP={},QUALITY=192'.format(value,time)+ '\\n'\n",
    "        new_context = linex+liney \n",
    "        with open(f\"{name}qtfs.txt\",\"a+\") as f:\n",
    "            f.write(new_context)\n",
    "        # print(linex,liney)"
   ]
  },
  {
   "cell_type": "code",
   "execution_count": 7,
   "metadata": {},
   "outputs": [],
   "source": [
    "def Datatotxtsample(x,name,srcname):\n",
    "    \n",
    "    for i in range(len(x[\"list\"])):\n",
    "        valuex = x[\"list\"][i]['value']\n",
    "        time = x[\"list\"][i]['collectionTime']\n",
    "        value = valuex\n",
    "        linex = f'TAGNAME=Root.CN.EL.NatGas.{name}'+ '\\n'\n",
    "        liney = 'ITEM=VALUE,VALUE={},TIMESTAMP={},QUALITY=192'.format(value,time)+ '\\n'\n",
    "        new_context = linex+liney \n",
    "        with open(srcname,\"a+\") as f:\n",
    "            f.write(new_context)\n",
    "        # print(linex,liney)"
   ]
  },
  {
   "cell_type": "code",
   "execution_count": 12,
   "metadata": {
    "scrolled": false
   },
   "outputs": [],
   "source": [
    "if __name__ == \"__main__\":\n",
    "    headers = {\"Content-Type\": \"application/json;charset=UTF-8\"}\n",
    "    today_date = datetime.date.today()#- datetime.timedelta(days=1) #更改数据时间\n",
    "    today_str = today_date.strftime(\"%Y-%m-%d\")\n",
    "    srcname=f'CCJSNatGas{today_str}.Txt'\n",
    "    txtname = r'\\\\192.168.218.65\\PIMS_report\\SE report\\CCJSNatGas.Txt'\n",
    "    MC0573dataFC6SUM,MC0572dataFC6SUM,MC0571dataFC6SUM,MC4273dataFC6SUM,MC4272dataFC6SUM,MC4271dataFC6SUM = confirm_login()\n",
    "#     Datatotxt(MC4273dataFC6SUM,MC4272dataFC6SUM,'kunlun') \n",
    "#     Datatotxt(MC0572dataFC6SUM,MC0571dataFC6SUM,'changshu') #常熟\n",
    "    if(os.path.exists(srcname)):\n",
    "        os.remove(srcname)\n",
    "    Datatotxtsample(MC4273dataFC6SUM,'FI-CS001',srcname) # kunlun4273\n",
    "    Datatotxtsample(MC4272dataFC6SUM,'FI-CS002',srcname) # kunlun4272\n",
    "    Datatotxtsample(MC0572dataFC6SUM,'FI-KL001',srcname) # changshu0572\n",
    "    Datatotxtsample(MC0571dataFC6SUM,'FI-KL002',srcname) # changshu0571\n",
    "    copyfile(srcname, txtname)"
   ]
  },
  {
   "cell_type": "code",
   "execution_count": null,
   "metadata": {},
   "outputs": [],
   "source": []
  }
 ],
 "metadata": {
  "kernelspec": {
   "display_name": "Python 3",
   "language": "python",
   "name": "python3"
  },
  "language_info": {
   "codemirror_mode": {
    "name": "ipython",
    "version": 3
   },
   "file_extension": ".py",
   "mimetype": "text/x-python",
   "name": "python",
   "nbconvert_exporter": "python",
   "pygments_lexer": "ipython3",
   "version": "3.8.5"
  }
 },
 "nbformat": 4,
 "nbformat_minor": 4
}
