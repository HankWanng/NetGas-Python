{
 "cells": [
  {
   "cell_type": "code",
   "execution_count": 101,
   "metadata": {},
   "outputs": [],
   "source": [
    "import requests\n",
    "import json\n",
    "import datetime\n",
    "import time"
   ]
  },
  {
   "cell_type": "code",
   "execution_count": 102,
   "metadata": {},
   "outputs": [],
   "source": [
    "def login():\n",
    "    \"\"\"获取token\"\"\"\n",
    "    data = {'username':'cchg','password':'cchg123!@#'}\n",
    " \n",
    " \n",
    "    url = \"http://ganghua.dsmcase.com:88/lrd/login\"\n",
    " \n",
    "    r = requests.post(url=url, json=data, headers=headers)\n",
    "    #将获取到的token返回\n",
    "\n",
    "    return (r.json()[\"data\"][\"token\"])"
   ]
  },
  {
   "cell_type": "code",
   "execution_count": 103,
   "metadata": {},
   "outputs": [],
   "source": [
    "def getTodayDate():\n",
    "    today_date = datetime.date.today()\n",
    "    today_str = today_date.strftime(\"%Y-%m-%d\")\n",
    "    yestoday_date = today_date - datetime.timedelta(days=1)\n",
    "    yestoday_str = yestoday_date.strftime(\"%Y-%m-%d\")\n",
    "#     print(today_str,yestoday_str)\n",
    "    today_stamp = time.mktime(time.strptime(today_str + ' 00:00:00', '%Y-%m-%d %H:%M:%S'))\n",
    "    today_stamp = str(round(today_stamp*1000))\n",
    "    yestoday_stamp = time.mktime(time.strptime(yestoday_str + ' 00:00:00', '%Y-%m-%d %H:%M:%S'))\n",
    "    yestoday_stamp = str(round(yestoday_stamp*1000))\n",
    "    return today_stamp, yestoday_stamp"
   ]
  },
  {
   "cell_type": "code",
   "execution_count": 104,
   "metadata": {},
   "outputs": [],
   "source": [
    "def Parmasdata(deviceCodes,keys):\n",
    "    endtime,starttime = getTodayDate()\n",
    "    data = {'page':'1','limit':'289','startTime':starttime,\n",
    "               'endTime':endtime,'deviceCodes':deviceCodes,'keys':keys}\n",
    "    \n",
    "    getTbHistoryValue = requests.get(\n",
    "        url=\"http://ganghua.dsmcase.com:88/lrd/dashboard/tbhistory/getTbHistoryValue\",\n",
    "        params=data,\n",
    "        headers=headers\n",
    "    )\n",
    "#     print(getTbHistoryValue.json())\n",
    "    return getTbHistoryValue.json()['data']"
   ]
  },
  {
   "cell_type": "code",
   "execution_count": 105,
   "metadata": {},
   "outputs": [],
   "source": [
    "def confirm_login():\n",
    "    \"\"\"调用获取登录信息接口，将登录成功后，返回的token放在该请求的header中\"\"\"\n",
    "    #将login（）方法中返回的token放入header中\n",
    "\n",
    "    headers[\"Token\"] = login()\n",
    "#    获取设备名称(2个C_11000427_2,C_11000427_3)\n",
    "    getDevices = requests.get(\n",
    "        url=\"http://ganghua.dsmcase.com:88//lrd/dashboard/tbhistory/getDevices\",\n",
    "        headers=headers\n",
    "    )\n",
    "    deviceCodes = list(getDevices.json()['data'])\n",
    "    \n",
    "    # 获取设备属性（C3 c4 c5 c6）\n",
    "    getKeys = requests.get(\n",
    "        url=\"http://ganghua.dsmcase.com:88/lrd/dashboard/tbhistory/getKeys\",\n",
    "        headers=headers\n",
    "    )\n",
    "    keys = getKeys.json()['data']\n",
    "    # 获取历史资料keys[0]['name']\n",
    "    # MC4272dataPC3 = Parmasdata(deviceCodes[0],'C3')   #4272压力\n",
    "    # MC4272dataTC4 = Parmasdata(deviceCodes[0],'C4')   #4272温度\n",
    "    # MC4272dataFC5 = Parmasdata(deviceCodes[0],'C5')   #4272流量\n",
    "    MC4272dataFC6SUM = Parmasdata(deviceCodes[0],'C6')   #4272累计流量\n",
    "    MC4273dataFC6SUM = Parmasdata(deviceCodes[1],'C6')   #4273累计流量\n",
    "#     C3Pdata = {'page':'10','limit':'30','startTime':'1618296802000','endTime':'1618383202000','deviceCodes':deviceCodes[0],'keys':'C3'}\n",
    "    \n",
    "#     getTbHistoryValue = requests.get(\n",
    "#         url=\"http://ganghua.dsmcase.com:88/lrd/dashboard/tbhistory/getTbHistoryValue\",\n",
    "#         params=C3Pdata,\n",
    "#         headers=headers\n",
    "#     )\n",
    "#     print(r.headersgetDevices.json(),getKeys.json(),)\n",
    "#     print(getTbHistoryValue.json())\n",
    "    return MC4272dataFC6SUM,MC4273dataFC6SUM"
   ]
  },
  {
   "cell_type": "code",
   "execution_count": 106,
   "metadata": {},
   "outputs": [],
   "source": [
    "def Datatotxt(x,y):\n",
    "    if(os.path.exists(\"qtfs.txt\")):\n",
    "        os.remove(\"qtfs.txt\")\n",
    "    for i in range(0,len(x[\"list\"]),3):\n",
    "        valuex = x[\"list\"][i]['value']\n",
    "        valuey = y[\"list\"][i]['value']\n",
    "        time = y[\"list\"][i]['collectionTime']\n",
    "        value = valuex + valuey\n",
    "        linex = 'TAGNAME=Root.CN.CCJS_BPA.BPA1.EXCEL.bondedtm'+ '\\n'\n",
    "        liney = 'ITEM=VALUE,VALUE={},TIMESTAMP={},QUALITY=192'.format(value,time)+ '\\n'\n",
    "        new_context = linex+liney \n",
    "        with open(\"qtfs.txt\",\"a+\") as f:\n",
    "            f.write(new_context)\n",
    "        # print(linex,liney)"
   ]
  },
  {
   "cell_type": "code",
   "execution_count": 107,
   "metadata": {
    "scrolled": true
   },
   "outputs": [],
   "source": [
    "if __name__ == \"__main__\":\n",
    "    headers = {\"Content-Type\": \"application/json;charset=UTF-8\"}\n",
    "    x,y = confirm_login()\n",
    "    Datatotxt(x,y)"
   ]
  }
 ],
 "metadata": {
  "kernelspec": {
   "display_name": "Python 3",
   "language": "python",
   "name": "python3"
  },
  "language_info": {
   "codemirror_mode": {
    "name": "ipython",
    "version": 3
   },
   "file_extension": ".py",
   "mimetype": "text/x-python",
   "name": "python",
   "nbconvert_exporter": "python",
   "pygments_lexer": "ipython3",
   "version": "3.6.13"
  }
 },
 "nbformat": 4,
 "nbformat_minor": 4
}